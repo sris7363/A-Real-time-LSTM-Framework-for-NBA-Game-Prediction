{
  "cells": [
    {
      "cell_type": "code",
      "execution_count": null,
      "metadata": {
        "colab": {
          "base_uri": "https://localhost:8080/"
        },
        "id": "FbtqMhAoTpyJ",
        "outputId": "2863ca68-4606-4709-e833-25187b02cfa8"
      },
      "outputs": [
        {
          "output_type": "stream",
          "name": "stdout",
          "text": [
            "Requirement already satisfied: nba_api in /usr/local/lib/python3.10/dist-packages (1.4.1)\n",
            "Requirement already satisfied: certifi<2024.0.0,>=2023.7.22 in /usr/local/lib/python3.10/dist-packages (from nba_api) (2023.11.17)\n",
            "Requirement already satisfied: numpy<2.0.0,>=1.22.2 in /usr/local/lib/python3.10/dist-packages (from nba_api) (1.25.2)\n",
            "Requirement already satisfied: requests<3.0,>=2.31 in /usr/local/lib/python3.10/dist-packages (from nba_api) (2.31.0)\n",
            "Requirement already satisfied: charset-normalizer<4,>=2 in /usr/local/lib/python3.10/dist-packages (from requests<3.0,>=2.31->nba_api) (3.3.2)\n",
            "Requirement already satisfied: idna<4,>=2.5 in /usr/local/lib/python3.10/dist-packages (from requests<3.0,>=2.31->nba_api) (3.6)\n",
            "Requirement already satisfied: urllib3<3,>=1.21.1 in /usr/local/lib/python3.10/dist-packages (from requests<3.0,>=2.31->nba_api) (2.0.7)\n"
          ]
        }
      ],
      "source": [
        "!pip install nba_api"
      ]
    },
    {
      "cell_type": "markdown",
      "metadata": {
        "id": "Uil0dBrSaGcJ"
      },
      "source": [
        "# Data Collection"
      ]
    },
    {
      "cell_type": "code",
      "execution_count": null,
      "metadata": {
        "colab": {
          "base_uri": "https://localhost:8080/"
        },
        "id": "9oUIXLXYtMTO",
        "outputId": "3eef9e12-139c-4c0a-b8b6-7569feeb376b"
      },
      "outputs": [
        {
          "output_type": "stream",
          "name": "stdout",
          "text": [
            "[1610612737, 1610612738, 1610612739, 1610612740, 1610612741, 1610612742, 1610612743, 1610612744, 1610612745, 1610612746, 1610612747, 1610612748, 1610612749, 1610612750, 1610612751, 1610612752, 1610612753, 1610612754, 1610612755, 1610612756, 1610612757, 1610612758, 1610612759, 1610612760, 1610612761, 1610612762, 1610612763, 1610612764, 1610612765, 1610612766]\n"
          ]
        }
      ],
      "source": [
        "from nba_api.stats.static import teams\n",
        "import pandas as pd\n",
        "nba_teams = teams.get_teams()\n",
        "\n",
        "nba_teams = pd.DataFrame(data = nba_teams,columns = ['id'])\n",
        "nba_teams = nba_teams['id'].tolist()\n",
        "\n",
        "\"\"\"teams = pd.DataFrame(data=nba_teams, columns=['abbreviation'])\n",
        "teams = teams['abbreviation'].tolist()\"\"\"\n",
        "\n",
        "print (nba_teams)\n",
        "\n",
        "#team_name = input(\"Enter the abbreviation of a team in the game you want to know about: \")\n",
        "\n",
        "#game_team = [team for team in nba_teams if team['abbreviation'] == team_name][0]\n",
        "#team_id = game_team['id']\n",
        "#print(f'{game_team}: {team_id}')"
      ]
    },
    {
      "cell_type": "code",
      "execution_count": null,
      "metadata": {
        "id": "SbQogd07TI_k"
      },
      "outputs": [],
      "source": [
        "from nba_api.stats.endpoints import leaguegamefinder\n",
        "from nba_api.stats.library.parameters import Season\n",
        "from nba_api.stats.library.parameters import SeasonType\n",
        "\n",
        "data = []\n",
        "\n",
        "for id in nba_teams:\n",
        "    gamefinder = leaguegamefinder.LeagueGameFinder(team_id_nullable=id, season_nullable=Season.default,season_type_nullable=SeasonType.regular)\n",
        "    game_finder = gamefinder.get_data_frames()[0]\n",
        "\n",
        "    data.append(game_finder)\n",
        "\n"
      ]
    },
    {
      "cell_type": "code",
      "source": [
        "print(type(data))"
      ],
      "metadata": {
        "colab": {
          "base_uri": "https://localhost:8080/"
        },
        "id": "mjwg6phAH7wc",
        "outputId": "deff4031-24ac-46ab-e2e5-065a9e5f76ae"
      },
      "execution_count": null,
      "outputs": [
        {
          "output_type": "stream",
          "name": "stdout",
          "text": [
            "<class 'list'>\n"
          ]
        }
      ]
    },
    {
      "cell_type": "code",
      "source": [
        "# prompt: convert the list of data frames into a single data frame\n",
        "\n",
        "combined_df = pd.concat(data)\n"
      ],
      "metadata": {
        "id": "jmSAGV6MNwIR"
      },
      "execution_count": null,
      "outputs": []
    },
    {
      "cell_type": "code",
      "source": [
        "print(type(combined_df))"
      ],
      "metadata": {
        "colab": {
          "base_uri": "https://localhost:8080/"
        },
        "id": "PeQlsXphN_JP",
        "outputId": "f0950b5e-1991-42e2-b6c5-8cb8cd1c402a"
      },
      "execution_count": null,
      "outputs": [
        {
          "output_type": "stream",
          "name": "stdout",
          "text": [
            "<class 'pandas.core.frame.DataFrame'>\n"
          ]
        }
      ]
    },
    {
      "cell_type": "code",
      "source": [
        "print(combined_df.info)\n",
        "\n",
        "data2 = combined_df\n",
        "\n",
        "data1 = combined_df['GAME_ID']\n",
        "\n",
        "data1 = data1.unique()\n",
        "\n",
        "print(data1)\n",
        "\n",
        "print(type(data1))"
      ],
      "metadata": {
        "colab": {
          "base_uri": "https://localhost:8080/"
        },
        "id": "B5VvYC8WOV7n",
        "outputId": "825a732d-15a9-4bb4-f3ca-14870a609708"
      },
      "execution_count": null,
      "outputs": [
        {
          "output_type": "stream",
          "name": "stdout",
          "text": [
            "<bound method DataFrame.info of    SEASON_ID     TEAM_ID TEAM_ABBREVIATION          TEAM_NAME     GAME_ID  \\\n",
            "0      22023  1610612737               ATL      Atlanta Hawks  0022301188   \n",
            "1      22023  1610612737               ATL      Atlanta Hawks  0022301178   \n",
            "2      22023  1610612737               ATL      Atlanta Hawks  0022301159   \n",
            "3      22023  1610612737               ATL      Atlanta Hawks  0022301147   \n",
            "4      22023  1610612737               ATL      Atlanta Hawks  0022301130   \n",
            "..       ...         ...               ...                ...         ...   \n",
            "77     22023  1610612766               CHA  Charlotte Hornets  0022300133   \n",
            "78     22023  1610612766               CHA  Charlotte Hornets  0022300122   \n",
            "79     22023  1610612766               CHA  Charlotte Hornets  0022300101   \n",
            "80     22023  1610612766               CHA  Charlotte Hornets  0022300077   \n",
            "81     22023  1610612766               CHA  Charlotte Hornets  0022300063   \n",
            "\n",
            "     GAME_DATE      MATCHUP WL  MIN  PTS  ...  FT_PCT  OREB  DREB  REB  AST  \\\n",
            "0   2024-04-14    ATL @ IND  L  241  115  ...   0.926     9    23   32   25   \n",
            "1   2024-04-12    ATL @ MIN  L  240  106  ...   0.680     9    31   40   23   \n",
            "2   2024-04-10  ATL vs. CHA  L  240  114  ...   0.625     7    31   38   35   \n",
            "3   2024-04-09  ATL vs. MIA  L  292  111  ...   0.786    17    42   59   28   \n",
            "4   2024-04-06    ATL @ DEN  L  240  110  ...   0.828    11    27   38   30   \n",
            "..         ...          ... ..  ...  ...  ...     ...   ...   ...  ...  ...   \n",
            "77  2023-11-04    CHA @ IND  W  240  125  ...   1.000    12    29   41   23   \n",
            "78  2023-11-01    CHA @ HOU  L  239  119  ...   0.720    15    29   44   21   \n",
            "79  2023-10-30  CHA vs. BKN  L  240  121  ...   0.950     8    31   39   33   \n",
            "80  2023-10-27  CHA vs. DET  L  240   99  ...   0.765    11    30   41   20   \n",
            "81  2023-10-25  CHA vs. ATL  W  240  116  ...   0.731    12    39   51   34   \n",
            "\n",
            "    STL  BLK  TOV  PF  PLUS_MINUS  \n",
            "0     6    5   15  12       -42.0  \n",
            "1     4    1   14  25        -3.0  \n",
            "2     7    2   16  20        -1.0  \n",
            "3    13    2   15  23        -6.0  \n",
            "4     8    2   16  18       -32.0  \n",
            "..  ...  ...  ...  ..         ...  \n",
            "77    5   10   13  20         1.0  \n",
            "78    9    8   16  19        -9.0  \n",
            "79    8    5    9  23       -12.0  \n",
            "80   13    7   18  23       -12.0  \n",
            "81    5    3   19  21         6.0  \n",
            "\n",
            "[2460 rows x 28 columns]>\n",
            "['0022301188' '0022301178' '0022301159' ... '0022300933' '0022300619'\n",
            " '0022300077']\n",
            "<class 'numpy.ndarray'>\n"
          ]
        }
      ]
    },
    {
      "cell_type": "code",
      "execution_count": null,
      "metadata": {
        "id": "uuJJffPzkayB"
      },
      "outputs": [],
      "source": [
        "gameids = data1[:615].tolist()\n",
        "gameids1 = data1[616:1230].tolist()\n",
        "\n"
      ]
    },
    {
      "cell_type": "markdown",
      "metadata": {
        "id": "ukodC8NbaZ_6"
      },
      "source": [
        "\n",
        "\n",
        "# Play By Play Data Collection\n",
        "\n",
        "  ## Feature Engineering\n",
        "  ## Preprocessing"
      ]
    },
    {
      "cell_type": "code",
      "execution_count": null,
      "metadata": {
        "id": "2ZLCzVEgTM2o"
      },
      "outputs": [],
      "source": [
        "import pandas as pd\n",
        "import numpy as np\n",
        "\n",
        "# Query for the play by play of that most recent regular season game\n",
        "from nba_api.stats.endpoints import playbyplay\n",
        "\n",
        "for i in gameids:\n",
        "  df0 = playbyplay.PlayByPlay(i).get_data_frames()[0]\n",
        "  df0[['VSTRSCORE', 'HOMESCORE']] = df0['SCORE'].str.split(' - ', expand=True)\n",
        "  # Convert 'SCOREMARGIN' column to numeric type\n",
        "  df0[['minutes', 'seconds']] = df0['PCTIMESTRING'].str.split(':', expand=True)\n",
        "  # Step 2: Convert Minutes and Seconds to Seconds\n",
        "  df0['SECONDS'] = df0['minutes'].astype(int) * 60 + df0['seconds'].astype(int)\n",
        "  df = pd.DataFrame(data=df0, columns=['GAME_ID','EVENTNUM', 'EVENTMSGTYPE', 'EVENTMSGACTIONTYPE','PERIOD','SECONDS','VSTRSCORE','HOMESCORE','SCOREMARGIN'])\n",
        "\n",
        "\n",
        "\n",
        "#df0 = playbyplay.PlayByPlay(game_id).get_data_frames()[0]\n",
        "#df0[['VSTRSCORE', 'HOMESCORE']] = df0['SCORE'].str.split(' - ', expand=True)\n",
        "#df = pd.DataFrame(data=df0, columns=['EVENTNUM', 'EVENTMSGTYPE', 'EVENTMSGACTIONTYPE','HOMEDESCRIPTION','VISITORDESCRIPTION','VSTRSCORE','HOMESCORE','SCOREMARGIN'])\n",
        "#df.head(50) #just looking at the head of the data\n"
      ]
    },
    {
      "cell_type": "code",
      "execution_count": null,
      "metadata": {
        "id": "WwOo6uKzb3FY"
      },
      "outputs": [],
      "source": [
        "from nba_api.stats.endpoints import playbyplay\n",
        "\n",
        "for i in gameids1:\n",
        "  df01 = playbyplay.PlayByPlay(i).get_data_frames()[0]\n",
        "  df01[['VSTRSCORE', 'HOMESCORE']] = df01['SCORE'].str.split(' - ', expand=True)\n",
        "  df01[['minutes', 'seconds']] = df01['PCTIMESTRING'].str.split(':', expand=True)\n",
        "  # Step 2: Convert Minutes and Seconds to Seconds\n",
        "  df01['SECONDS'] = df01['minutes'].astype(int) * 60 + df01['seconds'].astype(int)\n",
        "  df1 = pd.DataFrame(data=df01, columns=['GAME_ID','EVENTNUM', 'EVENTMSGTYPE', 'EVENTMSGACTIONTYPE','PERIOD','SECONDS','VSTRSCORE','HOMESCORE','SCOREMARGIN'])\n",
        "\n"
      ]
    },
    {
      "cell_type": "code",
      "execution_count": null,
      "metadata": {
        "colab": {
          "base_uri": "https://localhost:8080/"
        },
        "id": "tF9Ro5I-qw-y",
        "outputId": "ee3ebce6-1bd9-4955-81ee-d4b031f76479"
      },
      "outputs": [
        {
          "output_type": "stream",
          "name": "stdout",
          "text": [
            "        GAME_ID  EVENTNUM  EVENTMSGTYPE  EVENTMSGACTIONTYPE  PERIOD  SECONDS  \\\n",
            "0    0022300598         2            12                   0       1      720   \n",
            "1    0022300598         4            10                   0       1      720   \n",
            "2    0022300598         7             2                   1       1      700   \n",
            "3    0022300598         8             4                   0       1      697   \n",
            "4    0022300598         9             2                   3       1      695   \n",
            "..          ...       ...           ...                 ...     ...      ...   \n",
            "523  0022300077       756             8                   0       4       22   \n",
            "524  0022300077       758             3                  18       4       22   \n",
            "525  0022300077       759             4                   1       4       22   \n",
            "526  0022300077       760             3                  19       4       22   \n",
            "527  0022300077       761            13                   0       4        0   \n",
            "\n",
            "    VSTRSCORE HOMESCORE SCOREMARGIN  \n",
            "0        None      None        None  \n",
            "1        None      None        None  \n",
            "2        None      None        None  \n",
            "3        None      None        None  \n",
            "4        None      None        None  \n",
            "..        ...       ...         ...  \n",
            "523      None      None        None  \n",
            "524      None      None        None  \n",
            "525      None      None        None  \n",
            "526       111        99         -12  \n",
            "527       111        99         -12  \n",
            "\n",
            "[1098 rows x 9 columns]\n"
          ]
        }
      ],
      "source": [
        "pbpdata = pd.concat([df,df1])\n",
        "\n",
        "print(pbpdata)"
      ]
    },
    {
      "cell_type": "code",
      "execution_count": null,
      "metadata": {
        "colab": {
          "base_uri": "https://localhost:8080/"
        },
        "id": "AK1qx15XjEYm",
        "outputId": "c4d46172-b467-4152-b176-d880421b8f23"
      },
      "outputs": [
        {
          "output_type": "execute_result",
          "data": {
            "text/plain": [
              "824"
            ]
          },
          "metadata": {},
          "execution_count": 95
        }
      ],
      "source": [
        "pbpdata['SCOREMARGIN'].isnull().sum()"
      ]
    },
    {
      "cell_type": "code",
      "execution_count": null,
      "metadata": {
        "colab": {
          "base_uri": "https://localhost:8080/"
        },
        "id": "gK3NIdPR0VnH",
        "outputId": "b244d793-44ae-404d-b209-40d39789539f"
      },
      "outputs": [
        {
          "output_type": "stream",
          "name": "stdout",
          "text": [
            "        GAME_ID  EVENTNUM  EVENTMSGTYPE  EVENTMSGACTIONTYPE  PERIOD  SECONDS  \\\n",
            "0    0022300598         2            12                   0       1      720   \n",
            "1    0022300598         4            10                   0       1      720   \n",
            "2    0022300598         7             2                   1       1      700   \n",
            "3    0022300598         8             4                   0       1      697   \n",
            "4    0022300598         9             2                   3       1      695   \n",
            "..          ...       ...           ...                 ...     ...      ...   \n",
            "523  0022300077       756             8                   0       4       22   \n",
            "524  0022300077       758             3                  18       4       22   \n",
            "525  0022300077       759             4                   1       4       22   \n",
            "526  0022300077       760             3                  19       4       22   \n",
            "527  0022300077       761            13                   0       4        0   \n",
            "\n",
            "    VSTRSCORE HOMESCORE SCOREMARGIN  \n",
            "0           0         0           0  \n",
            "1           0         0           0  \n",
            "2           0         0           0  \n",
            "3           0         0           0  \n",
            "4           0         0           0  \n",
            "..        ...       ...         ...  \n",
            "523       110        99         -11  \n",
            "524       110        99         -11  \n",
            "525       110        99         -11  \n",
            "526       111        99         -12  \n",
            "527       111        99         -12  \n",
            "\n",
            "[1098 rows x 9 columns]\n"
          ]
        }
      ],
      "source": [
        "fill = ['SCOREMARGIN','VSTRSCORE','HOMESCORE']\n",
        "\n",
        "for col in fill:\n",
        "    pbpdata[col] = pbpdata[col].ffill()\n",
        "    pbpdata[col].fillna(0, inplace=True)\n",
        "\n",
        "\n",
        "#pbpdata['SCOREMARGIN'].fillna(method='ffill', inplace=True)\n",
        "#pbpdata['SCOREMARGIN','VSTRSCORE','HOMESCORE'].fillna(0, inplace=True)\n",
        "pbpdata['SCOREMARGIN'].replace('TIE', method = 'ffill', inplace=True)\n",
        "\n",
        "print(pbpdata)"
      ]
    },
    {
      "cell_type": "code",
      "source": [
        "import pandas as pd\n",
        "\n",
        "# Assume df is your dataframe and it has columns 'game_id', 'Eventnum', and 'ScoreMargin'\n",
        "\n",
        "# Define a lambda function to get the maximum Eventnum and corresponding ScoreMargin value for each group\n",
        "get_max_eventnum_scoremargin = lambda x: x.loc[x['EVENTNUM'].idxmax(), 'SCOREMARGIN']\n",
        "\n",
        "# Group by game_id and apply the lambda function to each group\n",
        "result = pbpdata.groupby('GAME_ID').apply(get_max_eventnum_scoremargin)\n",
        "\n",
        "print(result)\n",
        "print(type(result))\n",
        "\"\"\"# Reset the index and convert the result to a list\n",
        "result = result.reset_index(drop=True).tolist()\n",
        "\n",
        "print(result)\"\"\""
      ],
      "metadata": {
        "colab": {
          "base_uri": "https://localhost:8080/",
          "height": 116
        },
        "id": "inj0hCNfYZJX",
        "outputId": "3fa5a4d6-318a-49bd-fa63-4a0b425e204b"
      },
      "execution_count": null,
      "outputs": [
        {
          "output_type": "stream",
          "name": "stdout",
          "text": [
            "GAME_ID\n",
            "0022300077    -3\n",
            "0022300598     1\n",
            "dtype: object\n",
            "<class 'pandas.core.series.Series'>\n"
          ]
        },
        {
          "output_type": "execute_result",
          "data": {
            "text/plain": [
              "'# Reset the index and convert the result to a list\\nresult = result.reset_index(drop=True).tolist()\\n\\nprint(result)'"
            ],
            "application/vnd.google.colaboratory.intrinsic+json": {
              "type": "string"
            }
          },
          "metadata": {},
          "execution_count": 102
        }
      ]
    },
    {
      "cell_type": "code",
      "source": [
        "# Assuming df1 and df2 are your DataFrames\n",
        "\n",
        "pbpdata = pd.merge(pbpdata, data2[['GAME_ID', 'WL']], on='GAME_ID', how='left')\n",
        "\n",
        "pd.set_option('display.max_rows', None)\n",
        "\n",
        "print(pbpdata)"
      ],
      "metadata": {
        "id": "FL6CfuspYQrv"
      },
      "execution_count": null,
      "outputs": []
    },
    {
      "cell_type": "code",
      "execution_count": null,
      "metadata": {
        "colab": {
          "base_uri": "https://localhost:8080/"
        },
        "id": "1MfiknMs877x",
        "outputId": "bcbdb3c6-b690-4773-ea3d-b3e5df5480c0"
      },
      "outputs": [
        {
          "output_type": "execute_result",
          "data": {
            "text/plain": [
              "GAME_ID               0\n",
              "EVENTNUM              0\n",
              "EVENTMSGTYPE          0\n",
              "EVENTMSGACTIONTYPE    0\n",
              "PERIOD                0\n",
              "SECONDS               0\n",
              "VSTRSCORE             0\n",
              "HOMESCORE             0\n",
              "SCOREMARGIN           0\n",
              "WL                    0\n",
              "dtype: int64"
            ]
          },
          "metadata": {},
          "execution_count": 30
        }
      ],
      "source": [
        "pbpdata.isnull().sum()"
      ]
    },
    {
      "cell_type": "code",
      "execution_count": null,
      "metadata": {
        "id": "xe0HbYpdrnyI"
      },
      "outputs": [],
      "source": [
        "pd.DataFrame.to_csv(pbpdata, 'pbp2024.csv', sep=',', na_rep='.', index=False)"
      ]
    },
    {
      "cell_type": "markdown",
      "metadata": {
        "id": "avchvenhZvBK"
      },
      "source": [
        "# Data Modelling"
      ]
    },
    {
      "cell_type": "code",
      "execution_count": null,
      "metadata": {
        "id": "8SFdLzqTNf20",
        "colab": {
          "base_uri": "https://localhost:8080/"
        },
        "outputId": "d640a96e-1d5f-4f7c-f38e-75e32dbfa0d6"
      },
      "outputs": [
        {
          "output_type": "stream",
          "name": "stdout",
          "text": [
            "Epoch 1/100\n",
            "75/75 [==============================] - 2s 2ms/step - loss: 144.6596\n",
            "Epoch 2/100\n",
            "75/75 [==============================] - 0s 2ms/step - loss: 139.0436\n",
            "Epoch 3/100\n",
            "75/75 [==============================] - 0s 2ms/step - loss: 132.7532\n",
            "Epoch 4/100\n",
            "75/75 [==============================] - 0s 3ms/step - loss: 125.5723\n",
            "Epoch 5/100\n",
            "75/75 [==============================] - 0s 2ms/step - loss: 118.2749\n",
            "Epoch 6/100\n",
            "75/75 [==============================] - 0s 2ms/step - loss: 110.9648\n",
            "Epoch 7/100\n",
            "75/75 [==============================] - 0s 2ms/step - loss: 102.0885\n",
            "Epoch 8/100\n",
            "75/75 [==============================] - 0s 2ms/step - loss: 93.6113\n",
            "Epoch 9/100\n",
            "75/75 [==============================] - 0s 4ms/step - loss: 86.4527\n",
            "Epoch 10/100\n",
            "75/75 [==============================] - 0s 4ms/step - loss: 79.1936\n",
            "Epoch 11/100\n",
            "75/75 [==============================] - 0s 3ms/step - loss: 70.4414\n",
            "Epoch 12/100\n",
            "75/75 [==============================] - 0s 3ms/step - loss: 55.5820\n",
            "Epoch 13/100\n",
            "75/75 [==============================] - 0s 6ms/step - loss: 45.1469\n",
            "Epoch 14/100\n",
            "75/75 [==============================] - 0s 2ms/step - loss: 38.6922\n",
            "Epoch 15/100\n",
            "75/75 [==============================] - 0s 2ms/step - loss: 33.4933\n",
            "Epoch 16/100\n",
            "75/75 [==============================] - 0s 6ms/step - loss: 29.3940\n",
            "Epoch 17/100\n",
            "75/75 [==============================] - 0s 3ms/step - loss: 25.9155\n",
            "Epoch 18/100\n",
            "75/75 [==============================] - 0s 2ms/step - loss: 23.3010\n",
            "Epoch 19/100\n",
            "75/75 [==============================] - 0s 3ms/step - loss: 21.1543\n",
            "Epoch 20/100\n",
            "75/75 [==============================] - 0s 3ms/step - loss: 19.5358\n",
            "Epoch 21/100\n",
            "75/75 [==============================] - 0s 3ms/step - loss: 18.0251\n",
            "Epoch 22/100\n",
            "75/75 [==============================] - 0s 3ms/step - loss: 16.4830\n",
            "Epoch 23/100\n",
            "75/75 [==============================] - 0s 4ms/step - loss: 15.1993\n",
            "Epoch 24/100\n",
            "75/75 [==============================] - 0s 4ms/step - loss: 13.8817\n",
            "Epoch 25/100\n",
            "75/75 [==============================] - 0s 4ms/step - loss: 12.6928\n",
            "Epoch 26/100\n",
            "75/75 [==============================] - 0s 4ms/step - loss: 11.9088\n",
            "Epoch 27/100\n",
            "75/75 [==============================] - 0s 4ms/step - loss: 11.1620\n",
            "Epoch 28/100\n",
            "75/75 [==============================] - 0s 4ms/step - loss: 10.1445\n",
            "Epoch 29/100\n",
            "75/75 [==============================] - 0s 4ms/step - loss: 9.3721\n",
            "Epoch 30/100\n",
            "75/75 [==============================] - 0s 4ms/step - loss: 8.9885\n",
            "Epoch 31/100\n",
            "75/75 [==============================] - 0s 3ms/step - loss: 8.5191\n",
            "Epoch 32/100\n",
            "75/75 [==============================] - 0s 3ms/step - loss: 7.6261\n",
            "Epoch 33/100\n",
            "75/75 [==============================] - 0s 3ms/step - loss: 7.0299\n",
            "Epoch 34/100\n",
            "75/75 [==============================] - 0s 2ms/step - loss: 6.7550\n",
            "Epoch 35/100\n",
            "75/75 [==============================] - 0s 2ms/step - loss: 6.2950\n",
            "Epoch 36/100\n",
            "75/75 [==============================] - 0s 3ms/step - loss: 5.9845\n",
            "Epoch 37/100\n",
            "75/75 [==============================] - 0s 3ms/step - loss: 5.5608\n",
            "Epoch 38/100\n",
            "75/75 [==============================] - 0s 3ms/step - loss: 5.3244\n",
            "Epoch 39/100\n",
            "75/75 [==============================] - 0s 3ms/step - loss: 4.9971\n",
            "Epoch 40/100\n",
            "75/75 [==============================] - 0s 3ms/step - loss: 4.8713\n",
            "Epoch 41/100\n",
            "75/75 [==============================] - 0s 3ms/step - loss: 4.6402\n",
            "Epoch 42/100\n",
            "75/75 [==============================] - 0s 3ms/step - loss: 4.3593\n",
            "Epoch 43/100\n",
            "75/75 [==============================] - 0s 3ms/step - loss: 4.2956\n",
            "Epoch 44/100\n",
            "75/75 [==============================] - 0s 3ms/step - loss: 4.0809\n",
            "Epoch 45/100\n",
            "75/75 [==============================] - 0s 2ms/step - loss: 3.7699\n",
            "Epoch 46/100\n",
            "75/75 [==============================] - 0s 2ms/step - loss: 3.5674\n",
            "Epoch 47/100\n",
            "75/75 [==============================] - 0s 3ms/step - loss: 3.4439\n",
            "Epoch 48/100\n",
            "75/75 [==============================] - 0s 3ms/step - loss: 3.2900\n",
            "Epoch 49/100\n",
            "75/75 [==============================] - 0s 3ms/step - loss: 3.2352\n",
            "Epoch 50/100\n",
            "75/75 [==============================] - 0s 2ms/step - loss: 3.0721\n",
            "Epoch 51/100\n",
            "75/75 [==============================] - 0s 2ms/step - loss: 2.8963\n",
            "Epoch 52/100\n",
            "75/75 [==============================] - 0s 2ms/step - loss: 3.0004\n",
            "Epoch 53/100\n",
            "75/75 [==============================] - 0s 3ms/step - loss: 2.8382\n",
            "Epoch 54/100\n",
            "75/75 [==============================] - 0s 2ms/step - loss: 2.6309\n",
            "Epoch 55/100\n",
            "75/75 [==============================] - 0s 2ms/step - loss: 2.8333\n",
            "Epoch 56/100\n",
            "75/75 [==============================] - 0s 2ms/step - loss: 2.5606\n",
            "Epoch 57/100\n",
            "75/75 [==============================] - 0s 2ms/step - loss: 2.6553\n",
            "Epoch 58/100\n",
            "75/75 [==============================] - 0s 3ms/step - loss: 2.5261\n",
            "Epoch 59/100\n",
            "75/75 [==============================] - 0s 2ms/step - loss: 2.3520\n",
            "Epoch 60/100\n",
            "75/75 [==============================] - 0s 2ms/step - loss: 2.3785\n",
            "Epoch 61/100\n",
            "75/75 [==============================] - 0s 3ms/step - loss: 2.2515\n",
            "Epoch 62/100\n",
            "75/75 [==============================] - 0s 2ms/step - loss: 2.4351\n",
            "Epoch 63/100\n",
            "75/75 [==============================] - 0s 2ms/step - loss: 2.3889\n",
            "Epoch 64/100\n",
            "75/75 [==============================] - 0s 3ms/step - loss: 2.3190\n",
            "Epoch 65/100\n",
            "75/75 [==============================] - 0s 2ms/step - loss: 2.1838\n",
            "Epoch 66/100\n",
            "75/75 [==============================] - 0s 2ms/step - loss: 2.1820\n",
            "Epoch 67/100\n",
            "75/75 [==============================] - 0s 2ms/step - loss: 2.1114\n",
            "Epoch 68/100\n",
            "75/75 [==============================] - 0s 2ms/step - loss: 1.9935\n",
            "Epoch 69/100\n",
            "75/75 [==============================] - 0s 3ms/step - loss: 2.1891\n",
            "Epoch 70/100\n",
            "75/75 [==============================] - 0s 2ms/step - loss: 1.9238\n",
            "Epoch 71/100\n",
            "75/75 [==============================] - 0s 2ms/step - loss: 2.3729\n",
            "Epoch 72/100\n",
            "75/75 [==============================] - 0s 2ms/step - loss: 1.8569\n",
            "Epoch 73/100\n",
            "75/75 [==============================] - 0s 2ms/step - loss: 1.9507\n",
            "Epoch 74/100\n",
            "75/75 [==============================] - 0s 2ms/step - loss: 1.7481\n",
            "Epoch 75/100\n",
            "75/75 [==============================] - 0s 3ms/step - loss: 1.8029\n",
            "Epoch 76/100\n",
            "75/75 [==============================] - 0s 3ms/step - loss: 2.0054\n",
            "Epoch 77/100\n",
            "75/75 [==============================] - 0s 3ms/step - loss: 1.7637\n",
            "Epoch 78/100\n",
            "75/75 [==============================] - 0s 3ms/step - loss: 1.8843\n",
            "Epoch 79/100\n",
            "75/75 [==============================] - 0s 3ms/step - loss: 1.6581\n",
            "Epoch 80/100\n",
            "75/75 [==============================] - 0s 2ms/step - loss: 1.6310\n",
            "Epoch 81/100\n",
            "75/75 [==============================] - 0s 2ms/step - loss: 1.7181\n",
            "Epoch 82/100\n",
            "75/75 [==============================] - 0s 3ms/step - loss: 1.6372\n",
            "Epoch 83/100\n",
            "75/75 [==============================] - 0s 4ms/step - loss: 1.6177\n",
            "Epoch 84/100\n",
            "75/75 [==============================] - 0s 4ms/step - loss: 1.6179\n",
            "Epoch 85/100\n",
            "75/75 [==============================] - 0s 5ms/step - loss: 1.5847\n",
            "Epoch 86/100\n",
            "75/75 [==============================] - 0s 4ms/step - loss: 1.5318\n",
            "Epoch 87/100\n",
            "75/75 [==============================] - 0s 5ms/step - loss: 1.5853\n",
            "Epoch 88/100\n",
            "75/75 [==============================] - 0s 4ms/step - loss: 1.7293\n",
            "Epoch 89/100\n",
            "75/75 [==============================] - 0s 5ms/step - loss: 1.4036\n",
            "Epoch 90/100\n",
            "75/75 [==============================] - 0s 4ms/step - loss: 1.5225\n",
            "Epoch 91/100\n",
            "75/75 [==============================] - 0s 3ms/step - loss: 1.3910\n",
            "Epoch 92/100\n",
            "75/75 [==============================] - 0s 3ms/step - loss: 1.5213\n",
            "Epoch 93/100\n",
            "75/75 [==============================] - 0s 3ms/step - loss: 1.4384\n",
            "Epoch 94/100\n",
            "75/75 [==============================] - 0s 3ms/step - loss: 1.3353\n",
            "Epoch 95/100\n",
            "75/75 [==============================] - 0s 3ms/step - loss: 1.4591\n",
            "Epoch 96/100\n",
            "75/75 [==============================] - 0s 2ms/step - loss: 1.4077\n",
            "Epoch 97/100\n",
            "75/75 [==============================] - 0s 2ms/step - loss: 1.5195\n",
            "Epoch 98/100\n",
            "75/75 [==============================] - 0s 2ms/step - loss: 1.2048\n",
            "Epoch 99/100\n",
            "75/75 [==============================] - 0s 2ms/step - loss: 1.2515\n",
            "Epoch 100/100\n",
            "75/75 [==============================] - 0s 2ms/step - loss: 1.2542\n",
            "19/19 [==============================] - 1s 2ms/step - loss: 1.3336\n",
            "Test Loss: 1.3335639238357544\n",
            "19/19 [==============================] - 0s 2ms/step\n"
          ]
        }
      ],
      "source": [
        "import pandas as pd\n",
        "import numpy as np\n",
        "from sklearn.model_selection import train_test_split\n",
        "from sklearn.metrics import mean_absolute_error, mean_absolute_percentage_error, r2_score\n",
        "from tensorflow.keras.models import Sequential\n",
        "from tensorflow.keras.layers import LSTM, Dense\n",
        "\n",
        "# Load the data into a DataFrame\n",
        "trainset = pd.read_csv('/content/pbp2024.csv')\n",
        "\n",
        "# Extract features and target\n",
        "X = trainset[['EVENTNUM', 'EVENTMSGTYPE', 'EVENTMSGACTIONTYPE', 'PERIOD', 'SECONDS', 'VSTRSCORE', 'HOMESCORE']]\n",
        "y = trainset['SCOREMARGIN']\n",
        "\n",
        "# Split the data into training and testing sets\n",
        "X_train, X_test, y_train, y_test = train_test_split(X, y, test_size=0.2, random_state=42)\n",
        "\n",
        "# Reshape the data for LSTM input shape [samples, timesteps, features]\n",
        "X_train = np.array(X_train).reshape(X_train.shape[0], 1, X_train.shape[1])\n",
        "X_test = np.array(X_test).reshape(X_test.shape[0], 1, X_test.shape[1])\n",
        "\n",
        "# Define the LSTM model\n",
        "model = Sequential()\n",
        "model.add(LSTM(units=50, input_shape=(X_train.shape[1], X_train.shape[2])))\n",
        "model.add(Dense(1))\n",
        "\n",
        "# Compile the model\n",
        "model.compile(optimizer='adam', loss='mean_squared_error')\n",
        "\n",
        "# Train the model\n",
        "model.fit(X_train, y_train, epochs=100, batch_size=32)\n",
        "\n",
        "# Evaluate the model\n",
        "loss = model.evaluate(X_test, y_test)\n",
        "print(f\"Test Loss: {loss}\")\n",
        "\n",
        "# Predictions\n",
        "y_pred = model.predict(X_test)\n",
        "\n",
        "\n"
      ]
    },
    {
      "cell_type": "code",
      "source": [
        "# prompt: print model summary\n",
        "\n",
        "model.summary()\n"
      ],
      "metadata": {
        "colab": {
          "base_uri": "https://localhost:8080/"
        },
        "id": "0nsL9-kdxrYN",
        "outputId": "8dbf2161-e5c7-44cb-98c9-e01cd5d18f58"
      },
      "execution_count": null,
      "outputs": [
        {
          "output_type": "stream",
          "name": "stdout",
          "text": [
            "Model: \"sequential\"\n",
            "_________________________________________________________________\n",
            " Layer (type)                Output Shape              Param #   \n",
            "=================================================================\n",
            " lstm (LSTM)                 (None, 50)                11600     \n",
            "                                                                 \n",
            " dense (Dense)               (None, 1)                 51        \n",
            "                                                                 \n",
            "=================================================================\n",
            "Total params: 11651 (45.51 KB)\n",
            "Trainable params: 11651 (45.51 KB)\n",
            "Non-trainable params: 0 (0.00 Byte)\n",
            "_________________________________________________________________\n"
          ]
        }
      ]
    },
    {
      "cell_type": "code",
      "source": [
        "from sklearn.metrics import mean_squared_error, mean_absolute_error, mean_absolute_percentage_error, r2_score, accuracy_score, precision_score, recall_score, f1_score, confusion_matrix\n",
        "import numpy as np\n",
        "\n",
        "# prompt: print the model accuracy\n",
        "\n",
        "import numpy as np\n",
        "print(f\"Accuracy: {accuracy_score(y_test, np.round(y_pred))}\")\n"
      ],
      "metadata": {
        "colab": {
          "base_uri": "https://localhost:8080/"
        },
        "id": "89gwpLdNx3VW",
        "outputId": "a9e2373f-43c3-4874-d7c2-56a595c3d14b"
      },
      "execution_count": null,
      "outputs": [
        {
          "output_type": "stream",
          "name": "stdout",
          "text": [
            "Accuracy: 0.43025210084033616\n"
          ]
        }
      ]
    },
    {
      "cell_type": "code",
      "source": [
        "import matplotlib.pyplot as plt\n",
        "\n",
        "# Plotting the scatter plot\n",
        "plt.scatter(y_test, y_pred, alpha=0.5)\n",
        "plt.xlabel('True Score Margin')\n",
        "plt.ylabel('Predicted Score Margin')\n",
        "plt.title('True vs Predicted Score Margins')\n",
        "plt.show()\n"
      ],
      "metadata": {
        "colab": {
          "base_uri": "https://localhost:8080/",
          "height": 471
        },
        "id": "ZCYQwexA0kqq",
        "outputId": "3f96ddad-904f-4a6e-c4c3-b1f93745a867"
      },
      "execution_count": null,
      "outputs": [
        {
          "output_type": "display_data",
          "data": {
            "text/plain": [
              "<Figure size 640x480 with 1 Axes>"
            ],
            "image/png": "[encoded data removed]"
          },
          "metadata": {}
        }
      ]
    },
    {
      "cell_type": "code",
      "source": [
        "print(f\"Type of y_pred_direction: {type(y_pred)}\")\n",
        "print(f\"Type of y_test_direction: {type(y_test)}\")"
      ],
      "metadata": {
        "colab": {
          "base_uri": "https://localhost:8080/"
        },
        "id": "yeH_Iz3kxTMP",
        "outputId": "3620cf5e-ee4b-4f5b-c7b1-2d09b75f6293"
      },
      "execution_count": null,
      "outputs": [
        {
          "output_type": "stream",
          "name": "stdout",
          "text": [
            "Type of y_pred_direction: <class 'numpy.ndarray'>\n",
            "Type of y_test_direction: <class 'pandas.core.series.Series'>\n"
          ]
        }
      ]
    },
    {
      "cell_type": "code",
      "source": [
        "print(f\"Shape of y_pred_direction: {y_pred.shape}\")\n",
        "print(f\"Shape of y_test_direction: {y_test.shape}\")"
      ],
      "metadata": {
        "colab": {
          "base_uri": "https://localhost:8080/"
        },
        "id": "8yud2gomxa5P",
        "outputId": "b23b31ff-1cf2-4ef8-c8bc-a8ca2798099c"
      },
      "execution_count": null,
      "outputs": [
        {
          "output_type": "stream",
          "name": "stdout",
          "text": [
            "Shape of y_pred_direction: (595,)\n",
            "Shape of y_test_direction: (595,)\n"
          ]
        }
      ]
    }
  ],
  "metadata": {
    "colab": {
      "provenance": []
    },
    "kernelspec": {
      "display_name": "Python 3",
      "name": "python3"
    },
    "language_info": {
      "name": "python"
    }
  },
  "nbformat": 4,
  "nbformat_minor": 0
}